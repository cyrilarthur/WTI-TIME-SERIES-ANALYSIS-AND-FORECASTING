{
 "cells": [
  {
   "cell_type": "markdown",
   "id": "adfeaecc",
   "metadata": {},
   "source": [
    "# IMPORTING DEPENDENCIES"
   ]
  },
  {
   "cell_type": "code",
   "execution_count": 1,
   "id": "f88b06f0",
   "metadata": {},
   "outputs": [],
   "source": [
    "# Python\n",
    "import pandas as pd\n",
    "from prophet import Prophet\n",
    "import numpy as np \n",
    "import matplotlib.pyplot as plt \n",
    "import seaborn as sns"
   ]
  },
  {
   "cell_type": "markdown",
   "id": "73a82e6c",
   "metadata": {},
   "source": [
    "# IMPORTING DATA"
   ]
  },
  {
   "cell_type": "code",
   "execution_count": 2,
   "id": "84051e93",
   "metadata": {},
   "outputs": [],
   "source": [
    "Dcoilwtico_Dataframe = pd.read_csv('oil.csv')"
   ]
  },
  {
   "cell_type": "markdown",
   "id": "d5b9d42b",
   "metadata": {},
   "source": [
    "# BRIEF ANALYSIS OF THE DATAFRAME"
   ]
  },
  {
   "cell_type": "code",
   "execution_count": 3,
   "id": "26f8f8d3",
   "metadata": {},
   "outputs": [
    {
     "data": {
      "text/html": [
       "<div>\n",
       "<style scoped>\n",
       "    .dataframe tbody tr th:only-of-type {\n",
       "        vertical-align: middle;\n",
       "    }\n",
       "\n",
       "    .dataframe tbody tr th {\n",
       "        vertical-align: top;\n",
       "    }\n",
       "\n",
       "    .dataframe thead th {\n",
       "        text-align: right;\n",
       "    }\n",
       "</style>\n",
       "<table border=\"1\" class=\"dataframe\">\n",
       "  <thead>\n",
       "    <tr style=\"text-align: right;\">\n",
       "      <th></th>\n",
       "      <th>ds</th>\n",
       "      <th>y</th>\n",
       "    </tr>\n",
       "  </thead>\n",
       "  <tbody>\n",
       "    <tr>\n",
       "      <th>0</th>\n",
       "      <td>2013-01-01</td>\n",
       "      <td>NaN</td>\n",
       "    </tr>\n",
       "    <tr>\n",
       "      <th>1</th>\n",
       "      <td>2013-01-02</td>\n",
       "      <td>93.14</td>\n",
       "    </tr>\n",
       "    <tr>\n",
       "      <th>2</th>\n",
       "      <td>2013-01-03</td>\n",
       "      <td>92.97</td>\n",
       "    </tr>\n",
       "    <tr>\n",
       "      <th>3</th>\n",
       "      <td>2013-01-04</td>\n",
       "      <td>93.12</td>\n",
       "    </tr>\n",
       "    <tr>\n",
       "      <th>4</th>\n",
       "      <td>2013-01-07</td>\n",
       "      <td>93.20</td>\n",
       "    </tr>\n",
       "  </tbody>\n",
       "</table>\n",
       "</div>"
      ],
      "text/plain": [
       "           ds      y\n",
       "0  2013-01-01    NaN\n",
       "1  2013-01-02  93.14\n",
       "2  2013-01-03  92.97\n",
       "3  2013-01-04  93.12\n",
       "4  2013-01-07  93.20"
      ]
     },
     "execution_count": 3,
     "metadata": {},
     "output_type": "execute_result"
    }
   ],
   "source": [
    "Dcoilwtico_Dataframe.head()"
   ]
  },
  {
   "cell_type": "code",
   "execution_count": 4,
   "id": "62a36e71",
   "metadata": {},
   "outputs": [
    {
     "data": {
      "text/html": [
       "<div>\n",
       "<style scoped>\n",
       "    .dataframe tbody tr th:only-of-type {\n",
       "        vertical-align: middle;\n",
       "    }\n",
       "\n",
       "    .dataframe tbody tr th {\n",
       "        vertical-align: top;\n",
       "    }\n",
       "\n",
       "    .dataframe thead th {\n",
       "        text-align: right;\n",
       "    }\n",
       "</style>\n",
       "<table border=\"1\" class=\"dataframe\">\n",
       "  <thead>\n",
       "    <tr style=\"text-align: right;\">\n",
       "      <th></th>\n",
       "      <th>ds</th>\n",
       "      <th>y</th>\n",
       "    </tr>\n",
       "  </thead>\n",
       "  <tbody>\n",
       "    <tr>\n",
       "      <th>1213</th>\n",
       "      <td>2017-08-25</td>\n",
       "      <td>47.65</td>\n",
       "    </tr>\n",
       "    <tr>\n",
       "      <th>1214</th>\n",
       "      <td>2017-08-28</td>\n",
       "      <td>46.40</td>\n",
       "    </tr>\n",
       "    <tr>\n",
       "      <th>1215</th>\n",
       "      <td>2017-08-29</td>\n",
       "      <td>46.46</td>\n",
       "    </tr>\n",
       "    <tr>\n",
       "      <th>1216</th>\n",
       "      <td>2017-08-30</td>\n",
       "      <td>45.96</td>\n",
       "    </tr>\n",
       "    <tr>\n",
       "      <th>1217</th>\n",
       "      <td>2017-08-31</td>\n",
       "      <td>47.26</td>\n",
       "    </tr>\n",
       "  </tbody>\n",
       "</table>\n",
       "</div>"
      ],
      "text/plain": [
       "              ds      y\n",
       "1213  2017-08-25  47.65\n",
       "1214  2017-08-28  46.40\n",
       "1215  2017-08-29  46.46\n",
       "1216  2017-08-30  45.96\n",
       "1217  2017-08-31  47.26"
      ]
     },
     "execution_count": 4,
     "metadata": {},
     "output_type": "execute_result"
    }
   ],
   "source": [
    "Dcoilwtico_Dataframe.tail()"
   ]
  },
  {
   "cell_type": "code",
   "execution_count": 5,
   "id": "57bb73e6",
   "metadata": {},
   "outputs": [
    {
     "name": "stdout",
     "output_type": "stream",
     "text": [
      "<class 'pandas.core.frame.DataFrame'>\n",
      "RangeIndex: 1218 entries, 0 to 1217\n",
      "Data columns (total 2 columns):\n",
      " #   Column  Non-Null Count  Dtype  \n",
      "---  ------  --------------  -----  \n",
      " 0   ds      1218 non-null   object \n",
      " 1   y       1175 non-null   float64\n",
      "dtypes: float64(1), object(1)\n",
      "memory usage: 19.2+ KB\n"
     ]
    }
   ],
   "source": [
    "# Information On Dataframe\n",
    "Dcoilwtico_Dataframe.info()"
   ]
  },
  {
   "cell_type": "code",
   "execution_count": 6,
   "id": "50e9e6ec",
   "metadata": {},
   "outputs": [
    {
     "data": {
      "text/html": [
       "<div>\n",
       "<style scoped>\n",
       "    .dataframe tbody tr th:only-of-type {\n",
       "        vertical-align: middle;\n",
       "    }\n",
       "\n",
       "    .dataframe tbody tr th {\n",
       "        vertical-align: top;\n",
       "    }\n",
       "\n",
       "    .dataframe thead th {\n",
       "        text-align: right;\n",
       "    }\n",
       "</style>\n",
       "<table border=\"1\" class=\"dataframe\">\n",
       "  <thead>\n",
       "    <tr style=\"text-align: right;\">\n",
       "      <th></th>\n",
       "      <th>y</th>\n",
       "    </tr>\n",
       "  </thead>\n",
       "  <tbody>\n",
       "    <tr>\n",
       "      <th>count</th>\n",
       "      <td>1175.000000</td>\n",
       "    </tr>\n",
       "    <tr>\n",
       "      <th>mean</th>\n",
       "      <td>67.714366</td>\n",
       "    </tr>\n",
       "    <tr>\n",
       "      <th>std</th>\n",
       "      <td>25.630476</td>\n",
       "    </tr>\n",
       "    <tr>\n",
       "      <th>min</th>\n",
       "      <td>26.190000</td>\n",
       "    </tr>\n",
       "    <tr>\n",
       "      <th>25%</th>\n",
       "      <td>46.405000</td>\n",
       "    </tr>\n",
       "    <tr>\n",
       "      <th>50%</th>\n",
       "      <td>53.190000</td>\n",
       "    </tr>\n",
       "    <tr>\n",
       "      <th>75%</th>\n",
       "      <td>95.660000</td>\n",
       "    </tr>\n",
       "    <tr>\n",
       "      <th>max</th>\n",
       "      <td>110.620000</td>\n",
       "    </tr>\n",
       "  </tbody>\n",
       "</table>\n",
       "</div>"
      ],
      "text/plain": [
       "                 y\n",
       "count  1175.000000\n",
       "mean     67.714366\n",
       "std      25.630476\n",
       "min      26.190000\n",
       "25%      46.405000\n",
       "50%      53.190000\n",
       "75%      95.660000\n",
       "max     110.620000"
      ]
     },
     "execution_count": 6,
     "metadata": {},
     "output_type": "execute_result"
    }
   ],
   "source": [
    "# Summary Statistics of the dataframe\n",
    "Dcoilwtico_Dataframe.describe()"
   ]
  },
  {
   "cell_type": "code",
   "execution_count": 8,
   "id": "f9237f1e",
   "metadata": {},
   "outputs": [
    {
     "data": {
      "text/plain": [
       "(1218, 2)"
      ]
     },
     "execution_count": 8,
     "metadata": {},
     "output_type": "execute_result"
    }
   ],
   "source": [
    "# Shape of the dataframe\n",
    "Dcoilwtico_Dataframe.shape"
   ]
  },
  {
   "cell_type": "markdown",
   "id": "346adc84",
   "metadata": {},
   "source": [
    "# CLEANING OF THE DATAFRAME\n",
    "        # Checking for Missing values and duplicates\n",
    "        # Structural Manuplation Of the dataframe\n",
    "        # Data transformation"
   ]
  },
  {
   "cell_type": "markdown",
   "id": "3400c685",
   "metadata": {},
   "source": [
    "# Checking for Missing values and duplicates"
   ]
  },
  {
   "cell_type": "code",
   "execution_count": 9,
   "id": "c5954279",
   "metadata": {},
   "outputs": [
    {
     "data": {
      "text/html": [
       "<div>\n",
       "<style scoped>\n",
       "    .dataframe tbody tr th:only-of-type {\n",
       "        vertical-align: middle;\n",
       "    }\n",
       "\n",
       "    .dataframe tbody tr th {\n",
       "        vertical-align: top;\n",
       "    }\n",
       "\n",
       "    .dataframe thead th {\n",
       "        text-align: right;\n",
       "    }\n",
       "</style>\n",
       "<table border=\"1\" class=\"dataframe\">\n",
       "  <thead>\n",
       "    <tr style=\"text-align: right;\">\n",
       "      <th></th>\n",
       "      <th>ds</th>\n",
       "      <th>y</th>\n",
       "    </tr>\n",
       "  </thead>\n",
       "  <tbody>\n",
       "    <tr>\n",
       "      <th>0</th>\n",
       "      <td>False</td>\n",
       "      <td>True</td>\n",
       "    </tr>\n",
       "    <tr>\n",
       "      <th>1</th>\n",
       "      <td>False</td>\n",
       "      <td>False</td>\n",
       "    </tr>\n",
       "    <tr>\n",
       "      <th>2</th>\n",
       "      <td>False</td>\n",
       "      <td>False</td>\n",
       "    </tr>\n",
       "    <tr>\n",
       "      <th>3</th>\n",
       "      <td>False</td>\n",
       "      <td>False</td>\n",
       "    </tr>\n",
       "    <tr>\n",
       "      <th>4</th>\n",
       "      <td>False</td>\n",
       "      <td>False</td>\n",
       "    </tr>\n",
       "    <tr>\n",
       "      <th>...</th>\n",
       "      <td>...</td>\n",
       "      <td>...</td>\n",
       "    </tr>\n",
       "    <tr>\n",
       "      <th>1213</th>\n",
       "      <td>False</td>\n",
       "      <td>False</td>\n",
       "    </tr>\n",
       "    <tr>\n",
       "      <th>1214</th>\n",
       "      <td>False</td>\n",
       "      <td>False</td>\n",
       "    </tr>\n",
       "    <tr>\n",
       "      <th>1215</th>\n",
       "      <td>False</td>\n",
       "      <td>False</td>\n",
       "    </tr>\n",
       "    <tr>\n",
       "      <th>1216</th>\n",
       "      <td>False</td>\n",
       "      <td>False</td>\n",
       "    </tr>\n",
       "    <tr>\n",
       "      <th>1217</th>\n",
       "      <td>False</td>\n",
       "      <td>False</td>\n",
       "    </tr>\n",
       "  </tbody>\n",
       "</table>\n",
       "<p>1218 rows × 2 columns</p>\n",
       "</div>"
      ],
      "text/plain": [
       "         ds      y\n",
       "0     False   True\n",
       "1     False  False\n",
       "2     False  False\n",
       "3     False  False\n",
       "4     False  False\n",
       "...     ...    ...\n",
       "1213  False  False\n",
       "1214  False  False\n",
       "1215  False  False\n",
       "1216  False  False\n",
       "1217  False  False\n",
       "\n",
       "[1218 rows x 2 columns]"
      ]
     },
     "execution_count": 9,
     "metadata": {},
     "output_type": "execute_result"
    }
   ],
   "source": [
    "# Missing values in cells/rows\n",
    "Dcoilwtico_Dataframe.isna()"
   ]
  },
  {
   "cell_type": "code",
   "execution_count": 10,
   "id": "613737cc",
   "metadata": {},
   "outputs": [],
   "source": [
    "# Removing Missing Values\n",
    "Dcoilwtico_Dataframe.dropna(inplace=True)"
   ]
  },
  {
   "cell_type": "code",
   "execution_count": 12,
   "id": "de6c2e25",
   "metadata": {},
   "outputs": [
    {
     "data": {
      "text/plain": [
       "ds    False\n",
       "y     False\n",
       "dtype: bool"
      ]
     },
     "execution_count": 12,
     "metadata": {},
     "output_type": "execute_result"
    }
   ],
   "source": [
    "# Missing Values in columns\n",
    "Dcoilwtico_Dataframe.isna().any()"
   ]
  },
  {
   "cell_type": "code",
   "execution_count": 13,
   "id": "35c3cec0",
   "metadata": {},
   "outputs": [
    {
     "data": {
      "text/plain": [
       "1       False\n",
       "2       False\n",
       "3       False\n",
       "4       False\n",
       "5       False\n",
       "        ...  \n",
       "1213    False\n",
       "1214    False\n",
       "1215    False\n",
       "1216    False\n",
       "1217    False\n",
       "Length: 1175, dtype: bool"
      ]
     },
     "execution_count": 13,
     "metadata": {},
     "output_type": "execute_result"
    }
   ],
   "source": [
    "# Duplicates in rows\n",
    "Dcoilwtico_Dataframe.duplicated()"
   ]
  },
  {
   "cell_type": "code",
   "execution_count": 14,
   "id": "ad2f1a1f",
   "metadata": {},
   "outputs": [
    {
     "data": {
      "text/plain": [
       "False"
      ]
     },
     "execution_count": 14,
     "metadata": {},
     "output_type": "execute_result"
    }
   ],
   "source": [
    "# Duplicates in columns\n",
    "Dcoilwtico_Dataframe.duplicated().any()"
   ]
  },
  {
   "cell_type": "markdown",
   "id": "77a92f5f",
   "metadata": {},
   "source": [
    "# Data transformation\n",
    "    # converting data types"
   ]
  },
  {
   "cell_type": "code",
   "execution_count": 15,
   "id": "863b46b8",
   "metadata": {},
   "outputs": [],
   "source": [
    "Dcoilwtico_Dataframe['ds'] = pd.to_datetime(Dcoilwtico_Dataframe['ds'],format=\"%Y/%m/%d\")"
   ]
  },
  {
   "cell_type": "markdown",
   "id": "5566afab",
   "metadata": {},
   "source": [
    "# BUILDING AND TRAINING THE MODEL FOR PREDICTION FORECASTING"
   ]
  },
  {
   "cell_type": "code",
   "execution_count": 16,
   "id": "0612054c",
   "metadata": {},
   "outputs": [],
   "source": [
    "m = Prophet(interval_width=0.95, daily_seasonality=True)"
   ]
  },
  {
   "cell_type": "markdown",
   "id": "ca7b5268",
   "metadata": {},
   "source": [
    "# FIT THE MODEL FOR PREDICTIONS FORECASTING"
   ]
  },
  {
   "cell_type": "code",
   "execution_count": 17,
   "id": "076358ab",
   "metadata": {},
   "outputs": [
    {
     "name": "stderr",
     "output_type": "stream",
     "text": [
      "19:30:56 - cmdstanpy - INFO - Chain [1] start processing\n",
      "19:30:57 - cmdstanpy - INFO - Chain [1] done processing\n"
     ]
    },
    {
     "data": {
      "text/plain": [
       "<prophet.forecaster.Prophet at 0x2065a10b950>"
      ]
     },
     "execution_count": 17,
     "metadata": {},
     "output_type": "execute_result"
    }
   ],
   "source": [
    "m.fit(Dcoilwtico_Dataframe)"
   ]
  },
  {
   "cell_type": "markdown",
   "id": "47f6e3a6",
   "metadata": {},
   "source": [
    "# FORECASTING AWAY"
   ]
  },
  {
   "cell_type": "code",
   "execution_count": 21,
   "id": "e53fbd55",
   "metadata": {},
   "outputs": [],
   "source": [
    "future = m.make_future_dataframe(periods=3285, freq='D') # forecasting changed to 3285 days"
   ]
  },
  {
   "cell_type": "code",
   "execution_count": 22,
   "id": "cae7edcb",
   "metadata": {},
   "outputs": [],
   "source": [
    "Forecast = m.predict(future)"
   ]
  },
  {
   "cell_type": "markdown",
   "id": "7677f5b9",
   "metadata": {},
   "source": [
    "# DISPALYING HEAD OF THE FORECASTING PREDICTIONS"
   ]
  },
  {
   "cell_type": "code",
   "execution_count": 24,
   "id": "d6727c4a",
   "metadata": {},
   "outputs": [
    {
     "data": {
      "text/html": [
       "<div>\n",
       "<style scoped>\n",
       "    .dataframe tbody tr th:only-of-type {\n",
       "        vertical-align: middle;\n",
       "    }\n",
       "\n",
       "    .dataframe tbody tr th {\n",
       "        vertical-align: top;\n",
       "    }\n",
       "\n",
       "    .dataframe thead th {\n",
       "        text-align: right;\n",
       "    }\n",
       "</style>\n",
       "<table border=\"1\" class=\"dataframe\">\n",
       "  <thead>\n",
       "    <tr style=\"text-align: right;\">\n",
       "      <th></th>\n",
       "      <th>ds</th>\n",
       "      <th>trend</th>\n",
       "      <th>yhat_lower</th>\n",
       "      <th>yhat_upper</th>\n",
       "      <th>trend_lower</th>\n",
       "      <th>trend_upper</th>\n",
       "      <th>additive_terms</th>\n",
       "      <th>additive_terms_lower</th>\n",
       "      <th>additive_terms_upper</th>\n",
       "      <th>daily</th>\n",
       "      <th>...</th>\n",
       "      <th>weekly</th>\n",
       "      <th>weekly_lower</th>\n",
       "      <th>weekly_upper</th>\n",
       "      <th>yearly</th>\n",
       "      <th>yearly_lower</th>\n",
       "      <th>yearly_upper</th>\n",
       "      <th>multiplicative_terms</th>\n",
       "      <th>multiplicative_terms_lower</th>\n",
       "      <th>multiplicative_terms_upper</th>\n",
       "      <th>yhat</th>\n",
       "    </tr>\n",
       "  </thead>\n",
       "  <tbody>\n",
       "    <tr>\n",
       "      <th>0</th>\n",
       "      <td>2013-01-02</td>\n",
       "      <td>92.594803</td>\n",
       "      <td>85.433975</td>\n",
       "      <td>99.446408</td>\n",
       "      <td>92.594803</td>\n",
       "      <td>92.594803</td>\n",
       "      <td>0.193373</td>\n",
       "      <td>0.193373</td>\n",
       "      <td>0.193373</td>\n",
       "      <td>3.695199</td>\n",
       "      <td>...</td>\n",
       "      <td>0.189168</td>\n",
       "      <td>0.189168</td>\n",
       "      <td>0.189168</td>\n",
       "      <td>-3.690994</td>\n",
       "      <td>-3.690994</td>\n",
       "      <td>-3.690994</td>\n",
       "      <td>0.0</td>\n",
       "      <td>0.0</td>\n",
       "      <td>0.0</td>\n",
       "      <td>92.788176</td>\n",
       "    </tr>\n",
       "    <tr>\n",
       "      <th>1</th>\n",
       "      <td>2013-01-03</td>\n",
       "      <td>92.565821</td>\n",
       "      <td>85.030386</td>\n",
       "      <td>99.752789</td>\n",
       "      <td>92.565821</td>\n",
       "      <td>92.565821</td>\n",
       "      <td>0.104552</td>\n",
       "      <td>0.104552</td>\n",
       "      <td>0.104552</td>\n",
       "      <td>3.695199</td>\n",
       "      <td>...</td>\n",
       "      <td>0.247466</td>\n",
       "      <td>0.247466</td>\n",
       "      <td>0.247466</td>\n",
       "      <td>-3.838113</td>\n",
       "      <td>-3.838113</td>\n",
       "      <td>-3.838113</td>\n",
       "      <td>0.0</td>\n",
       "      <td>0.0</td>\n",
       "      <td>0.0</td>\n",
       "      <td>92.670373</td>\n",
       "    </tr>\n",
       "    <tr>\n",
       "      <th>2</th>\n",
       "      <td>2013-01-04</td>\n",
       "      <td>92.536839</td>\n",
       "      <td>85.258061</td>\n",
       "      <td>99.323451</td>\n",
       "      <td>92.536839</td>\n",
       "      <td>92.536839</td>\n",
       "      <td>-0.090773</td>\n",
       "      <td>-0.090773</td>\n",
       "      <td>-0.090773</td>\n",
       "      <td>3.695199</td>\n",
       "      <td>...</td>\n",
       "      <td>0.195554</td>\n",
       "      <td>0.195554</td>\n",
       "      <td>0.195554</td>\n",
       "      <td>-3.981526</td>\n",
       "      <td>-3.981526</td>\n",
       "      <td>-3.981526</td>\n",
       "      <td>0.0</td>\n",
       "      <td>0.0</td>\n",
       "      <td>0.0</td>\n",
       "      <td>92.446066</td>\n",
       "    </tr>\n",
       "    <tr>\n",
       "      <th>3</th>\n",
       "      <td>2013-01-07</td>\n",
       "      <td>92.449894</td>\n",
       "      <td>85.211721</td>\n",
       "      <td>98.829699</td>\n",
       "      <td>92.449894</td>\n",
       "      <td>92.449894</td>\n",
       "      <td>-0.561315</td>\n",
       "      <td>-0.561315</td>\n",
       "      <td>-0.561315</td>\n",
       "      <td>3.695199</td>\n",
       "      <td>...</td>\n",
       "      <td>0.106963</td>\n",
       "      <td>0.106963</td>\n",
       "      <td>0.106963</td>\n",
       "      <td>-4.363478</td>\n",
       "      <td>-4.363478</td>\n",
       "      <td>-4.363478</td>\n",
       "      <td>0.0</td>\n",
       "      <td>0.0</td>\n",
       "      <td>0.0</td>\n",
       "      <td>91.888578</td>\n",
       "    </tr>\n",
       "    <tr>\n",
       "      <th>4</th>\n",
       "      <td>2013-01-08</td>\n",
       "      <td>92.420912</td>\n",
       "      <td>84.631062</td>\n",
       "      <td>98.658975</td>\n",
       "      <td>92.420912</td>\n",
       "      <td>92.420912</td>\n",
       "      <td>-0.586556</td>\n",
       "      <td>-0.586556</td>\n",
       "      <td>-0.586556</td>\n",
       "      <td>3.695199</td>\n",
       "      <td>...</td>\n",
       "      <td>0.184649</td>\n",
       "      <td>0.184649</td>\n",
       "      <td>0.184649</td>\n",
       "      <td>-4.466404</td>\n",
       "      <td>-4.466404</td>\n",
       "      <td>-4.466404</td>\n",
       "      <td>0.0</td>\n",
       "      <td>0.0</td>\n",
       "      <td>0.0</td>\n",
       "      <td>91.834356</td>\n",
       "    </tr>\n",
       "  </tbody>\n",
       "</table>\n",
       "<p>5 rows × 22 columns</p>\n",
       "</div>"
      ],
      "text/plain": [
       "          ds      trend  yhat_lower  yhat_upper  trend_lower  trend_upper  \\\n",
       "0 2013-01-02  92.594803   85.433975   99.446408    92.594803    92.594803   \n",
       "1 2013-01-03  92.565821   85.030386   99.752789    92.565821    92.565821   \n",
       "2 2013-01-04  92.536839   85.258061   99.323451    92.536839    92.536839   \n",
       "3 2013-01-07  92.449894   85.211721   98.829699    92.449894    92.449894   \n",
       "4 2013-01-08  92.420912   84.631062   98.658975    92.420912    92.420912   \n",
       "\n",
       "   additive_terms  additive_terms_lower  additive_terms_upper     daily  ...  \\\n",
       "0        0.193373              0.193373              0.193373  3.695199  ...   \n",
       "1        0.104552              0.104552              0.104552  3.695199  ...   \n",
       "2       -0.090773             -0.090773             -0.090773  3.695199  ...   \n",
       "3       -0.561315             -0.561315             -0.561315  3.695199  ...   \n",
       "4       -0.586556             -0.586556             -0.586556  3.695199  ...   \n",
       "\n",
       "     weekly  weekly_lower  weekly_upper    yearly  yearly_lower  yearly_upper  \\\n",
       "0  0.189168      0.189168      0.189168 -3.690994     -3.690994     -3.690994   \n",
       "1  0.247466      0.247466      0.247466 -3.838113     -3.838113     -3.838113   \n",
       "2  0.195554      0.195554      0.195554 -3.981526     -3.981526     -3.981526   \n",
       "3  0.106963      0.106963      0.106963 -4.363478     -4.363478     -4.363478   \n",
       "4  0.184649      0.184649      0.184649 -4.466404     -4.466404     -4.466404   \n",
       "\n",
       "   multiplicative_terms  multiplicative_terms_lower  \\\n",
       "0                   0.0                         0.0   \n",
       "1                   0.0                         0.0   \n",
       "2                   0.0                         0.0   \n",
       "3                   0.0                         0.0   \n",
       "4                   0.0                         0.0   \n",
       "\n",
       "   multiplicative_terms_upper       yhat  \n",
       "0                         0.0  92.788176  \n",
       "1                         0.0  92.670373  \n",
       "2                         0.0  92.446066  \n",
       "3                         0.0  91.888578  \n",
       "4                         0.0  91.834356  \n",
       "\n",
       "[5 rows x 22 columns]"
      ]
     },
     "execution_count": 24,
     "metadata": {},
     "output_type": "execute_result"
    }
   ],
   "source": [
    "Forecast.head()"
   ]
  },
  {
   "cell_type": "markdown",
   "id": "873150b4",
   "metadata": {},
   "source": [
    "# DISPALYING TAIL OF THE FORECASTING PREDICTIONS"
   ]
  },
  {
   "cell_type": "code",
   "execution_count": 25,
   "id": "f9bdadb1",
   "metadata": {},
   "outputs": [
    {
     "data": {
      "text/html": [
       "<div>\n",
       "<style scoped>\n",
       "    .dataframe tbody tr th:only-of-type {\n",
       "        vertical-align: middle;\n",
       "    }\n",
       "\n",
       "    .dataframe tbody tr th {\n",
       "        vertical-align: top;\n",
       "    }\n",
       "\n",
       "    .dataframe thead th {\n",
       "        text-align: right;\n",
       "    }\n",
       "</style>\n",
       "<table border=\"1\" class=\"dataframe\">\n",
       "  <thead>\n",
       "    <tr style=\"text-align: right;\">\n",
       "      <th></th>\n",
       "      <th>ds</th>\n",
       "      <th>trend</th>\n",
       "      <th>yhat_lower</th>\n",
       "      <th>yhat_upper</th>\n",
       "      <th>trend_lower</th>\n",
       "      <th>trend_upper</th>\n",
       "      <th>additive_terms</th>\n",
       "      <th>additive_terms_lower</th>\n",
       "      <th>additive_terms_upper</th>\n",
       "      <th>daily</th>\n",
       "      <th>...</th>\n",
       "      <th>weekly</th>\n",
       "      <th>weekly_lower</th>\n",
       "      <th>weekly_upper</th>\n",
       "      <th>yearly</th>\n",
       "      <th>yearly_lower</th>\n",
       "      <th>yearly_upper</th>\n",
       "      <th>multiplicative_terms</th>\n",
       "      <th>multiplicative_terms_lower</th>\n",
       "      <th>multiplicative_terms_upper</th>\n",
       "      <th>yhat</th>\n",
       "    </tr>\n",
       "  </thead>\n",
       "  <tbody>\n",
       "    <tr>\n",
       "      <th>4455</th>\n",
       "      <td>2026-08-25</td>\n",
       "      <td>22.761370</td>\n",
       "      <td>-1555.796643</td>\n",
       "      <td>1583.210157</td>\n",
       "      <td>-1556.886660</td>\n",
       "      <td>1578.726689</td>\n",
       "      <td>3.797482</td>\n",
       "      <td>3.797482</td>\n",
       "      <td>3.797482</td>\n",
       "      <td>3.695199</td>\n",
       "      <td>...</td>\n",
       "      <td>0.184649</td>\n",
       "      <td>0.184649</td>\n",
       "      <td>0.184649</td>\n",
       "      <td>-0.082365</td>\n",
       "      <td>-0.082365</td>\n",
       "      <td>-0.082365</td>\n",
       "      <td>0.0</td>\n",
       "      <td>0.0</td>\n",
       "      <td>0.0</td>\n",
       "      <td>26.558853</td>\n",
       "    </tr>\n",
       "    <tr>\n",
       "      <th>4456</th>\n",
       "      <td>2026-08-26</td>\n",
       "      <td>22.755001</td>\n",
       "      <td>-1549.957522</td>\n",
       "      <td>1582.070474</td>\n",
       "      <td>-1557.693597</td>\n",
       "      <td>1579.950966</td>\n",
       "      <td>3.948900</td>\n",
       "      <td>3.948900</td>\n",
       "      <td>3.948900</td>\n",
       "      <td>3.695199</td>\n",
       "      <td>...</td>\n",
       "      <td>0.189168</td>\n",
       "      <td>0.189168</td>\n",
       "      <td>0.189168</td>\n",
       "      <td>0.064532</td>\n",
       "      <td>0.064532</td>\n",
       "      <td>0.064532</td>\n",
       "      <td>0.0</td>\n",
       "      <td>0.0</td>\n",
       "      <td>0.0</td>\n",
       "      <td>26.703900</td>\n",
       "    </tr>\n",
       "    <tr>\n",
       "      <th>4457</th>\n",
       "      <td>2026-08-27</td>\n",
       "      <td>22.748631</td>\n",
       "      <td>-1549.376275</td>\n",
       "      <td>1585.293466</td>\n",
       "      <td>-1558.500535</td>\n",
       "      <td>1581.175244</td>\n",
       "      <td>4.154572</td>\n",
       "      <td>4.154572</td>\n",
       "      <td>4.154572</td>\n",
       "      <td>3.695199</td>\n",
       "      <td>...</td>\n",
       "      <td>0.247466</td>\n",
       "      <td>0.247466</td>\n",
       "      <td>0.247466</td>\n",
       "      <td>0.211907</td>\n",
       "      <td>0.211907</td>\n",
       "      <td>0.211907</td>\n",
       "      <td>0.0</td>\n",
       "      <td>0.0</td>\n",
       "      <td>0.0</td>\n",
       "      <td>26.903203</td>\n",
       "    </tr>\n",
       "    <tr>\n",
       "      <th>4458</th>\n",
       "      <td>2026-08-28</td>\n",
       "      <td>22.742261</td>\n",
       "      <td>-1557.146076</td>\n",
       "      <td>1582.332670</td>\n",
       "      <td>-1559.307472</td>\n",
       "      <td>1582.399521</td>\n",
       "      <td>4.247790</td>\n",
       "      <td>4.247790</td>\n",
       "      <td>4.247790</td>\n",
       "      <td>3.695199</td>\n",
       "      <td>...</td>\n",
       "      <td>0.195554</td>\n",
       "      <td>0.195554</td>\n",
       "      <td>0.195554</td>\n",
       "      <td>0.357037</td>\n",
       "      <td>0.357037</td>\n",
       "      <td>0.357037</td>\n",
       "      <td>0.0</td>\n",
       "      <td>0.0</td>\n",
       "      <td>0.0</td>\n",
       "      <td>26.990051</td>\n",
       "    </tr>\n",
       "    <tr>\n",
       "      <th>4459</th>\n",
       "      <td>2026-08-29</td>\n",
       "      <td>22.735891</td>\n",
       "      <td>-1552.989674</td>\n",
       "      <td>1586.852973</td>\n",
       "      <td>-1560.114410</td>\n",
       "      <td>1583.262786</td>\n",
       "      <td>3.730612</td>\n",
       "      <td>3.730612</td>\n",
       "      <td>3.730612</td>\n",
       "      <td>3.695199</td>\n",
       "      <td>...</td>\n",
       "      <td>-0.461900</td>\n",
       "      <td>-0.461900</td>\n",
       "      <td>-0.461900</td>\n",
       "      <td>0.497313</td>\n",
       "      <td>0.497313</td>\n",
       "      <td>0.497313</td>\n",
       "      <td>0.0</td>\n",
       "      <td>0.0</td>\n",
       "      <td>0.0</td>\n",
       "      <td>26.466503</td>\n",
       "    </tr>\n",
       "  </tbody>\n",
       "</table>\n",
       "<p>5 rows × 22 columns</p>\n",
       "</div>"
      ],
      "text/plain": [
       "             ds      trend   yhat_lower   yhat_upper  trend_lower  \\\n",
       "4455 2026-08-25  22.761370 -1555.796643  1583.210157 -1556.886660   \n",
       "4456 2026-08-26  22.755001 -1549.957522  1582.070474 -1557.693597   \n",
       "4457 2026-08-27  22.748631 -1549.376275  1585.293466 -1558.500535   \n",
       "4458 2026-08-28  22.742261 -1557.146076  1582.332670 -1559.307472   \n",
       "4459 2026-08-29  22.735891 -1552.989674  1586.852973 -1560.114410   \n",
       "\n",
       "      trend_upper  additive_terms  additive_terms_lower  additive_terms_upper  \\\n",
       "4455  1578.726689        3.797482              3.797482              3.797482   \n",
       "4456  1579.950966        3.948900              3.948900              3.948900   \n",
       "4457  1581.175244        4.154572              4.154572              4.154572   \n",
       "4458  1582.399521        4.247790              4.247790              4.247790   \n",
       "4459  1583.262786        3.730612              3.730612              3.730612   \n",
       "\n",
       "         daily  ...    weekly  weekly_lower  weekly_upper    yearly  \\\n",
       "4455  3.695199  ...  0.184649      0.184649      0.184649 -0.082365   \n",
       "4456  3.695199  ...  0.189168      0.189168      0.189168  0.064532   \n",
       "4457  3.695199  ...  0.247466      0.247466      0.247466  0.211907   \n",
       "4458  3.695199  ...  0.195554      0.195554      0.195554  0.357037   \n",
       "4459  3.695199  ... -0.461900     -0.461900     -0.461900  0.497313   \n",
       "\n",
       "      yearly_lower  yearly_upper  multiplicative_terms  \\\n",
       "4455     -0.082365     -0.082365                   0.0   \n",
       "4456      0.064532      0.064532                   0.0   \n",
       "4457      0.211907      0.211907                   0.0   \n",
       "4458      0.357037      0.357037                   0.0   \n",
       "4459      0.497313      0.497313                   0.0   \n",
       "\n",
       "      multiplicative_terms_lower  multiplicative_terms_upper       yhat  \n",
       "4455                         0.0                         0.0  26.558853  \n",
       "4456                         0.0                         0.0  26.703900  \n",
       "4457                         0.0                         0.0  26.903203  \n",
       "4458                         0.0                         0.0  26.990051  \n",
       "4459                         0.0                         0.0  26.466503  \n",
       "\n",
       "[5 rows x 22 columns]"
      ]
     },
     "execution_count": 25,
     "metadata": {},
     "output_type": "execute_result"
    }
   ],
   "source": [
    "Forecast.tail()"
   ]
  },
  {
   "cell_type": "markdown",
   "id": "69605499",
   "metadata": {},
   "source": [
    "# PLOTING OR VISUALIZING FORECASTING PREDICTIONS "
   ]
  },
  {
   "cell_type": "code",
   "execution_count": 27,
   "id": "404f98ce",
   "metadata": {},
   "outputs": [
    {
     "data": {
      "text/plain": [
       "Text(62.972222222222214, 0.5, 'dcoilwtico')"
      ]
     },
     "execution_count": 27,
     "metadata": {},
     "output_type": "execute_result"
    },
    {
     "data": {
      "image/png": "[encoded data removed]",
      "text/plain": [
       "<Figure size 1000x600 with 1 Axes>"
      ]
     },
     "metadata": {},
     "output_type": "display_data"
    }
   ],
   "source": [
    "Main_Plot = m.plot(Forecast)\n",
    "plt.title('Forecasting Visual Of dcoilwtico')\n",
    "plt.xlabel('years/dates')\n",
    "plt.ylabel('dcoilwtico')"
   ]
  },
  {
   "cell_type": "code",
   "execution_count": 28,
   "id": "933705ea",
   "metadata": {},
   "outputs": [
    {
     "data": {
      "image/png": "[encoded data removed]",
      "text/plain": [
       "<Figure size 900x1200 with 4 Axes>"
      ]
     },
     "metadata": {},
     "output_type": "display_data"
    }
   ],
   "source": [
    "Components_Plot = m.plot_components(Forecast)"
   ]
  },
  {
   "cell_type": "code",
   "execution_count": null,
   "id": "8d312b8b",
   "metadata": {},
   "outputs": [],
   "source": []
  }
 ],
 "metadata": {
  "kernelspec": {
   "display_name": "Python 3 (ipykernel)",
   "language": "python",
   "name": "python3"
  },
  "language_info": {
   "codemirror_mode": {
    "name": "ipython",
    "version": 3
   },
   "file_extension": ".py",
   "mimetype": "text/x-python",
   "name": "python",
   "nbconvert_exporter": "python",
   "pygments_lexer": "ipython3",
   "version": "3.11.4"
  }
 },
 "nbformat": 4,
 "nbformat_minor": 5
}
